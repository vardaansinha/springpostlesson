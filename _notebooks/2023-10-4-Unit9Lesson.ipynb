{
 "cells": [
  {
   "cell_type": "markdown",
   "metadata": {},
   "source": [
    "---\n",
    "title: Unit 9 Lesson\n",
    "toc: true\n",
    "description: Lesson for Inheritance\n",
    "courses: { csse: {week: 3}, csp: {week: 2, categories: [3.A, 5.B]}, csa: {week: 7} }\n",
    "categories: [C3.0, C3.1, C4.1]\n",
    "type: hacks\n",
    "---"
   ]
  },
  {
   "cell_type": "markdown",
   "metadata": {},
   "source": [
    "## 9.1 What is inheritance?\n",
    "- Inhertiance is like a family, except the kids only have one parent instead of two\n",
    "- For example:\n",
    "```java\n",
    "class Mom{\n",
    "\n",
    "}\n",
    "class Son extends Mom{\n",
    "\n",
    "}\n",
    "class Daughter extends Mom{\n",
    "\n",
    "}\n",
    "```\n",
    "In this example, the Son and Daughter inherits the Mom, meaning it inherit the components of the mother. This makes the \"Son\" and \"Daughter\" classes the ____ of the \"Mom\" class as they inherit the \"Mom\" class components and the \"Mom\" class the _____. "
   ]
  },
  {
   "cell_type": "markdown",
   "metadata": {},
   "source": [
    "## 9.2 Using the Super keyword for Constructors\n",
    "- One keyword to know is the super keyword\n",
    "- The super keyword allows the subclass to store key variables in the main class's ____ (also known as the super class)\n",
    "- Example below:"
   ]
  },
  {
   "cell_type": "code",
   "execution_count": 13,
   "metadata": {
    "vscode": {
     "languageId": "java"
    }
   },
   "outputs": [
    {
     "name": "stdout",
     "output_type": "stream",
     "text": [
      "VROOM!\n",
      "I am the Tesla\n",
      "I was made in 2003\n",
      "I move at 200 miles per hour\n"
     ]
    }
   ],
   "source": [
    "public class Vehicle { //This is the Superclas, it inherits the key variables for its subclasses\n",
    "    public String Name; //They don't have to be public, but I just put public word for fun\n",
    "    public String Sound;\n",
    "    public int creation;\n",
    "    public int Mph;\n",
    "    public Vehicle(String name, int dateMade, String sound, int mph){ //Similar to the constructor used in Javascript. It maintains values within this superclass\n",
    "        Name = name; \n",
    "        Sound = sound;\n",
    "        creation = dateMade;\n",
    "        Mph = mph;\n",
    "    }\n",
    "}\n",
    "public class Car extends Vehicle {\n",
    "    public Car(String name, int dateMade, String sound, int mph){\n",
    "        super(name, dateMade,sound, mph); //Uses the superclass's constructor to store the key variables for the Car subclass\n",
    "    }\n",
    "    public void Information(){\n",
    "        System.out.println(super.Sound);\n",
    "        System.out.println(\"I am the \" + super.Name);\n",
    "        System.out.println(\"I was made in \" + super.creation);\n",
    "        System.out.println(\"I move at \" + super.Mph +\" miles per hour\");\n",
    "    }\n",
    "}\n",
    "\n",
    "public class Test {\n",
    "    public static void main(String[] args){\n",
    "        Car Tesla = new Car(\"Tesla\", 2003, \"VROOM!\", 200);\n",
    "        Tesla.Information();\n",
    "    }\n",
    "    \n",
    "}\n",
    "Test.main(null);"
   ]
  },
  {
   "cell_type": "markdown",
   "metadata": {},
   "source": [
    "## 9.4 Using Super keyword for Methods\n",
    "- Why only use super for constructors when you can use them for methods too?\n",
    "- With the super key word, not only can you store variables, but also store methods"
   ]
  },
  {
   "cell_type": "code",
   "execution_count": 14,
   "metadata": {
    "vscode": {
     "languageId": "java"
    }
   },
   "outputs": [
    {
     "name": "stdout",
     "output_type": "stream",
     "text": [
      "I am a Dog\n",
      "Woof!\n",
      "I am a Cow\n",
      "MOOOO!\n"
     ]
    }
   ],
   "source": [
    "class Animal{\n",
    "    public void Introduction(String name){\n",
    "        System.out.println(\"I am a \" + name);\n",
    "    }\n",
    "}\n",
    "class Dog extends Animal{ \n",
    "    public void Woof(){\n",
    "        super.Introduction(\"Dog\");//Inherits the introduction method in the Animal Class, then introduces itself as a dog\n",
    "        System.out.println(\"Woof!\"); //Does its own thing\n",
    "    }\n",
    "}\n",
    "class Cow extends Animal{\n",
    "    public void Moo(){\n",
    "        super.Introduction(\"Cow\");//Inherits the introduction method in the Animal Class, then introduces itself as a cow\n",
    "        System.out.println(\"MOOOO!\");//Does its own thing\n",
    "    }\n",
    "}\n",
    "class Test{\n",
    "    public static void main(String[] args){\n",
    "        Dog dog = new Dog();\n",
    "        Cow cow = new Cow();\n",
    "        dog.Woof();\n",
    "        cow.Moo();\n",
    "    }\n",
    "}\n",
    "Test.main(null);"
   ]
  },
  {
   "cell_type": "markdown",
   "metadata": {},
   "source": [
    "## 9.5 Inheritance Hierarchies"
   ]
  },
  {
   "cell_type": "markdown",
   "metadata": {},
   "source": [
    "<p class=\"center1\">\n",
    "  <img src=\"{{ site.baseurl }}/images/inheritance.png\" width=250px/>\n",
    "</p>"
   ]
  },
  {
   "cell_type": "code",
   "execution_count": null,
   "metadata": {
    "vscode": {
     "languageId": "java"
    }
   },
   "outputs": [],
   "source": [
    "public class Company{\n",
    "    public String Name;\n",
    "    public Company(String name){\n",
    "        this.Name = name;\n",
    "    }\n",
    "}\n",
    "public class Workplace extends Comapny{\n",
    "    public String name;\n",
    "    public Workplace(String companyName, String Name){\n",
    "        super(companyName);\n",
    "        this.name = Name;\n",
    "    }\n",
    "}\n",
    "public class Worker extends Workplace{\n",
    "    public Worker(String companyName, String, workplaceName)\n",
    "}\n",
    "public class Test{\n",
    "    public static void main(String[] args){\n",
    "        \n",
    "    }\n",
    "}"
   ]
  },
  {
   "cell_type": "code",
   "execution_count": null,
   "metadata": {
    "vscode": {
     "languageId": "java"
    }
   },
   "outputs": [],
   "source": []
  },
  {
   "cell_type": "markdown",
   "metadata": {},
   "source": [
    "## Hacks\n",
    "- Popcorn Hacks (0.2): Fill in all of the blanks. Miss one blank, you get no points for popcorn hacks\n",
    "- FRQ Hacks (0.7): Make a complex FRQ that involves everything we taught\n",
    "- Challenge (0.1): Make a minihack that uses everything we taught and it must run through main and uses input and output. The more complex, the higher the score."
   ]
  }
 ],
 "metadata": {
  "kernelspec": {
   "display_name": "Java",
   "language": "java",
   "name": "java"
  },
  "language_info": {
   "codemirror_mode": "java",
   "file_extension": ".jshell",
   "mimetype": "text/x-java-source",
   "name": "Java",
   "pygments_lexer": "java",
   "version": "11.0.20.1+1-post-Ubuntu-0ubuntu122.04"
  },
  "orig_nbformat": 4
 },
 "nbformat": 4,
 "nbformat_minor": 2
}
