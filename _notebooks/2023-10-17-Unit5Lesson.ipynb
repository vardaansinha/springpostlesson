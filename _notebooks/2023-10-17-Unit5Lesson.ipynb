{
 "cells": [
  {
   "attachments": {},
   "cell_type": "markdown",
   "metadata": {},
   "source": [
    "---\n",
    "toc: true\n",
    "comments: true\n",
    "layout: post\n",
    "title: Unit 5 Lesson\n",
    "description: Lesson for Unit 5 of APCSA\n",
    "courses: { csa: {week: '9'} }\n",
    "type: hacks\n",
    "---"
   ]
  },
  {
   "attachments": {},
   "cell_type": "markdown",
   "metadata": {},
   "source": [
    "# 5.1 Anatomy of a Class"
   ]
  },
  {
   "attachments": {},
   "cell_type": "markdown",
   "metadata": {},
   "source": [
    "## KEY LEARNING OBJECTIVES:\n",
    "\n",
    "1. Designate access and visibility constraints to classes, data, constructors, and methods.\n",
    "\n",
    "2. Designate private visibility of instance variables to encapsulate the attributes of an object."
   ]
  },
  {
   "attachments": {},
   "cell_type": "markdown",
   "metadata": {},
   "source": [
    "## What is a class?"
   ]
  },
  {
   "attachments": {},
   "cell_type": "markdown",
   "metadata": {},
   "source": [
    "A **class** is a template for creating objects in Java. "
   ]
  },
  {
   "attachments": {},
   "cell_type": "markdown",
   "metadata": {},
   "source": [
    "## Private vs Public Designation\n",
    "\n",
    "**Private**: A private access modifier means that the instance variables, constructors, and methods cannot be accessed outside of the class.\n",
    "\n",
    "**Public**: This allows access from classes outside the original class of declaration."
   ]
  },
  {
   "attachments": {},
   "cell_type": "markdown",
   "metadata": {},
   "source": [
    "## Data Encapsulation\n",
    "\n",
    "This is one of the key components of object oriented programming. \n",
    "\n",
    "It ensures data **integrity** by controlling which parts of a class are accessible to other classes."
   ]
  },
  {
   "attachments": {},
   "cell_type": "markdown",
   "metadata": {},
   "source": [
    "In the following example, we look at encapsulation and demonstrate how to create a Student class with private instance variables for name and age, public methods for accessing and modifying these variables, and validation checks to ensure data integrity. "
   ]
  },
  {
   "cell_type": "code",
   "execution_count": 1,
   "metadata": {
    "vscode": {
     "languageId": "java"
    }
   },
   "outputs": [
    {
     "name": "stdout",
     "output_type": "stream",
     "text": [
      "Meet our star student:\n",
      "Name: Vishnu\n",
      "Age: 17\n"
     ]
    }
   ],
   "source": [
    "public class Student {\n",
    "    // 1. Private variables to store student's name and age\n",
    "    private String name; // Stores the student's name\n",
    "    private int age;     // Stores the student's age\n",
    "\n",
    "    // 2. Public Class: Student\n",
    "\n",
    "    // 3. Constructor Methods\n",
    "    // Constructor to create a Student object with a name and age\n",
    "    public Student(String name, int age) {\n",
    "        this.name = name;\n",
    "        this.age = age;\n",
    "    }\n",
    "\n",
    "    public static void main(String[] args) {\n",
    "        // Let's create a new Student!\n",
    "        Student student = new Student(\"Vishnu\", 17);\n",
    "\n",
    "        // Displaying the student's information\n",
    "        System.out.println(\"Meet our star student:\");\n",
    "        System.out.println(\"Name: \" + student.name); // Accessing the name directly\n",
    "        System.out.println(\"Age: \" + student.age);   // Accessing the age directly\n",
    "    }\n",
    "}\n",
    "\n",
    "Student.main(null);\n"
   ]
  },
  {
   "attachments": {},
   "cell_type": "markdown",
   "metadata": {},
   "source": [
    "# 5.2 Constructors"
   ]
  },
  {
   "attachments": {},
   "cell_type": "markdown",
   "metadata": {},
   "source": [
    "## KEY LEARNING OBJECTIVES"
   ]
  },
  {
   "attachments": {},
   "cell_type": "markdown",
   "metadata": {},
   "source": [
    "Define instance variables for the attributes to be initialized through the constructors of a class."
   ]
  },
  {
   "attachments": {},
   "cell_type": "markdown",
   "metadata": {},
   "source": [
    "Constructors are used to set the **initial** state of an object.\n"
   ]
  },
  {
   "attachments": {},
   "cell_type": "markdown",
   "metadata": {},
   "source": [
    "**Mutable Objects**: These are objects whose internal state can be changed after its creation. Lists are mutable objects, as are arrays.\n",
    "\n",
    "**Constructor Parameters**: These are values passed to a class's constructor when creating an instance. This initializes the new object's state.\n",
    "\n",
    "**Instance Variables**: These are object attributes that store the objects state. They are declared within the class and can be accessed by the object's methods.\n",
    "\n",
    "**Alias**: Two variables point to the **same** object."
   ]
  },
  {
   "attachments": {},
   "cell_type": "markdown",
   "metadata": {},
   "source": [
    "A good example of a Java alias:"
   ]
  },
  {
   "cell_type": "code",
   "execution_count": 17,
   "metadata": {
    "vscode": {
     "languageId": "java"
    }
   },
   "outputs": [
    {
     "name": "stdout",
     "output_type": "stream",
     "text": [
      "Value at index 0 through alias2: 100\n"
     ]
    }
   ],
   "source": [
    "public class AliasExample {\n",
    "    public static void main(String[] args) {\n",
    "        // Create an array and two references (aliases) to it\n",
    "        int[] array = new int[]{1, 2, 3};\n",
    "        int[] alias1 = array;\n",
    "        int[] alias2 = array;\n",
    "\n",
    "        // Modify the array through one of the aliases\n",
    "        alias1[0] = 100;\n",
    "\n",
    "        // Access the modified array through the other alias\n",
    "        System.out.println(\"Value at index 0 through alias2: \" + alias2[0]);\n",
    "    }\n",
    "}\n",
    "\n",
    "AliasExample.main(null);"
   ]
  },
  {
   "attachments": {},
   "cell_type": "markdown",
   "metadata": {},
   "source": [
    "In the below example, we explore encapsulation and demonstrate how to create a Person class to represent individuals with private attributes for name, age, and hobbies. The code showcases how to initialize and manipulate a Person object's state, including adding hobbies to the person's list, while ensuring the original data remains unchanged."
   ]
  },
  {
   "cell_type": "code",
   "execution_count": 25,
   "metadata": {
    "vscode": {
     "languageId": "java"
    }
   },
   "outputs": [
    {
     "name": "stdout",
     "output_type": "stream",
     "text": [
      "Person 1:\n",
      "Name: Anna\n",
      "Age: 17\n",
      "Person 2:\n",
      "Name: Rohin\n",
      "Age: 13\n"
     ]
    }
   ],
   "source": [
    "public class Person {\n",
    "    private String name;\n",
    "    private int age;\n",
    "\n",
    "    // Constructor to initialize a Person with a name and age\n",
    "    public Person(String name, int age) {\n",
    "        this.name = name;  // Initialize the 'name' field with the provided name\n",
    "        this.age = age;    // Initialize the 'age' field with the provided age\n",
    "    }\n",
    "\n",
    "    // Method to display the person's information\n",
    "    public void displayInfo() {\n",
    "        System.out.println(\"Name: \" + name);\n",
    "        System.out.println(\"Age: \" + age);\n",
    "    }\n",
    "}\n",
    "\n",
    "public class PersonConstructorDemo {\n",
    "    public static void main(String[] args) {\n",
    "        // Create two Person objects using the constructor\n",
    "        Person person1 = new Person(\"Anna\", 17);\n",
    "        Person person2 = new Person(\"Rohin\", 13);\n",
    "\n",
    "        // Display information about the created persons\n",
    "        System.out.println(\"Person 1:\");\n",
    "        person1.displayInfo();\n",
    "        \n",
    "        System.out.println(\"Person 2:\");\n",
    "        person2.displayInfo();\n",
    "    }\n",
    "}\n",
    "\n",
    "PersonConstructorDemo.main(null);\n"
   ]
  },
  {
   "attachments": {},
   "cell_type": "markdown",
   "metadata": {},
   "source": [
    "In the Person class, the hobbies list is encapsulated to prevent unintended modifications. What is the importance of encapsulation and how does it improve the design of the class?"
   ]
  },
  {
   "attachments": {},
   "cell_type": "markdown",
   "metadata": {},
   "source": [
    "# 5.3 Documentation with Comments"
   ]
  },
  {
   "attachments": {},
   "cell_type": "markdown",
   "metadata": {},
   "source": [
    "## KEY LEARNING OBJECTIVE"
   ]
  },
  {
   "attachments": {},
   "cell_type": "markdown",
   "metadata": {},
   "source": [
    "Describe the functionality and use of program code through comments."
   ]
  },
  {
   "attachments": {},
   "cell_type": "markdown",
   "metadata": {},
   "source": [
    "**Precondition**: This is a condition that has to be met prior to an execution of a certain part of the code for the method to work.\n",
    "\n",
    "**Postcondition**: This is a condition that has to be met after the execution of a certain part of the code. "
   ]
  },
  {
   "cell_type": "code",
   "execution_count": 19,
   "metadata": {
    "vscode": {
     "languageId": "java"
    }
   },
   "outputs": [
    {
     "name": "stdout",
     "output_type": "stream",
     "text": [
      "Constructor called with value: 42\n",
      "Value: 42\n"
     ]
    }
   ],
   "source": [
    "public class Comments {\n",
    "    private int value; // Private integer called value\n",
    "\n",
    "    public Comments(int value) {\n",
    "        this.value = value; // Using this to refer to the value object\n",
    "        System.out.println(\"Constructor called with value: \" + value); // Constructor\n",
    "    }\n",
    "\n",
    "    public int getValue() {\n",
    "        return value;\n",
    "    }\n",
    "\n",
    "    public static void main(String[] args) { // Main Method\n",
    "        Comments myObject = new Comments(42); \n",
    "        int result = myObject.getValue();    \n",
    "        System.out.println(\"Value: \" + result); \n",
    "    }\n",
    "}\n",
    "\n",
    "Comments.main(null);\n"
   ]
  },
  {
   "attachments": {},
   "cell_type": "markdown",
   "metadata": {},
   "source": [
    "**ADD DESCRIPTIVE COMMENTS TO THE ABOVE CODE. Provide descriptions of functionality, identify methods used, and initialized variables if any.**"
   ]
  },
  {
   "attachments": {},
   "cell_type": "markdown",
   "metadata": {},
   "source": [
    "# Hacks"
   ]
  },
  {
   "attachments": {},
   "cell_type": "markdown",
   "metadata": {},
   "source": [
    "**POPCORN HACKS: 0.2**"
   ]
  },
  {
   "attachments": {},
   "cell_type": "markdown",
   "metadata": {},
   "source": [
    "**Create a simple To-Do List that utilizes the following (0.8):**\n",
    "\n",
    "1. Private and Public Declaration\n",
    "\n",
    "2. Constructor\n",
    "\n",
    "3. Mutable Array containing To-Do List Items\n",
    "\n",
    "Make sure to add descriptive comments that are describing your code!"
   ]
  },
  {
   "cell_type": "code",
   "execution_count": null,
   "metadata": {
    "vscode": {
     "languageId": "java"
    }
   },
   "outputs": [
    {
     "name": "stdout",
     "output_type": "stream",
     "text": [
      "1. Buy groceries\n",
      "2. Finish homework\n",
      "3. Go for a run\n",
      "1. Buy groceries\n",
      "2. Go for a run\n"
     ]
    }
   ],
   "source": [
    "import java.util.*;\n",
    "\n",
    "public class ToDoList {\n",
    "    private ArrayList<String> items; //Sets up the Items list\n",
    "    public int actionsLeft = 0; //Sets up th Actions left overall\n",
    "\n",
    "    // Constructor to initialize the ToDoList\n",
    "    public ToDoList() {\n",
    "        items = new ArrayList<>();\n",
    "    }\n",
    "\n",
    "    // Adds an item from the items list\n",
    "    public void addItem(String item) {\n",
    "        items.add(item); //Does the job for adding items\n",
    "        actionsLeft++; \n",
    "    }\n",
    "\n",
    "    // Removes an item from the items list\n",
    "    public void removeItem(String item) {\n",
    "        items.remove(item); //Does the job for removing items\n",
    "        actionsLeft--; \n",
    "    }\n",
    "\n",
    "    // Displays the current to-do list\n",
    "    public void displayList() {\n",
    "        System.out.println(\"To-Do List:\");\n",
    "        for (String item : items) {\n",
    "            System.out.println(item);\n",
    "        }\n",
    "    }\n",
    "\n",
    "    public static void main(String[] args) {\n",
    "        // Makes a new ToDoList\n",
    "        ToDoList toDoList = new ToDoList();\n",
    "\n",
    "        // Add items to the to-do list\n",
    "        toDoList.addItem(\"Finish Homework\");\n",
    "        toDoList.addItem(\"Jog\");\n",
    "        toDoList.addItem(\"Eat food\");\n",
    "        System.out.println(toDoList.actionsLeft); // Print the initial number of actions left\n",
    "\n",
    "        // Displays the to-do list\n",
    "        toDoList.displayList();\n",
    "\n",
    "        // Removes an item from the list\n",
    "        toDoList.removeItem(\"Jog\");\n",
    "\n",
    "        // Displays the updated to-do list\n",
    "        toDoList.displayList();\n",
    "        System.out.println(toDoList.actionsLeft); // Print the final number of actions left\n",
    "    }\n",
    "}\n",
    "\n",
    "ToDoList.main(null);"
   ]
  },
  {
   "cell_type": "markdown",
   "metadata": {},
   "source": [
    "I had to use ChatGPT for some part of this one because I had no idea how I was supposed to start and wasn't sure of what methods to use. This was useful to me because I asked for the code and asked it to explain each line to me to ensure that I actually understood it. I learned which lines were initializing objects and which other lines were used as classes and methods. It helped me to learn more about Arrays and how to implement it into our code using a simple example."
   ]
  },
  {
   "cell_type": "markdown",
   "metadata": {},
   "source": [
    "# Topic 5.4: Accessor Methods\n",
    "\n",
    "In Java, classes serve as blueprints for creating objects. These classes can encapsulate attributes (fields) and behaviors (methods). One of the cornerstones of Object-Oriented Programming is **data encapsulation**. This principle restricts direct access to some of an object's components, ensuring data integrity and security. Accessor methods, colloquially known as \"getters\", offer a controlled means to access these attributes.\n",
    "\n",
    "## Accessor Methods\n",
    "\n",
    "An **Accessor Method** permits other objects to retrieve the value of instance or static variables. They are typically non-void methods without parameters that return a value.\n",
    "\n",
    "For instance, consider a class `Circle`:"
   ]
  },
  {
   "cell_type": "code",
   "execution_count": 7,
   "metadata": {
    "vscode": {
     "languageId": "java"
    }
   },
   "outputs": [],
   "source": [
    "public class Circle {\n",
    "    private double radius;\n",
    "\n",
    "    public Circle(double r) {\n",
    "        this.radius = r;\n",
    "    }\n",
    "\n",
    "    // Accessor method for radius\n",
    "    public double getRadius() {\n",
    "        return radius;\n",
    "    }\n",
    "}"
   ]
  },
  {
   "cell_type": "markdown",
   "metadata": {},
   "source": [
    "In the code above, the method `getRadius` is an accessor method. It allows external code to retrieve the value of the `radius` attribute without directly accessing the private field. This is a fundamental aspect of data encapsulation, ensuring that the internal state of an object is protected and can only be accessed or modified in controlled ways."
   ]
  },
  {
   "cell_type": "markdown",
   "metadata": {},
   "source": [
    "## Return by Value\n",
    "\n",
    "Java employs the \"return by value\" approach for its methods. This implies that when a method returns a value, it's essentially returning a copy of that value. This is especially true for primitive data types."
   ]
  },
  {
   "cell_type": "code",
   "execution_count": 8,
   "metadata": {
    "vscode": {
     "languageId": "java"
    }
   },
   "outputs": [],
   "source": [
    "public int getIntegerValue() {\n",
    "    int value = 5;\n",
    "    return value;\n",
    "}"
   ]
  },
  {
   "cell_type": "markdown",
   "metadata": {},
   "source": [
    "In the method above, the value `5` is returned, not the variable `value` itself."
   ]
  },
  {
   "cell_type": "markdown",
   "metadata": {},
   "source": [
    "## Reference Return\n",
    "\n",
    "For objects, when a method returns an object, it's essentially returning a reference to that object, not a fresh copy. This becomes pivotal when dealing with mutable objects."
   ]
  },
  {
   "cell_type": "code",
   "execution_count": 9,
   "metadata": {
    "vscode": {
     "languageId": "java"
    }
   },
   "outputs": [
    {
     "name": "stdout",
     "output_type": "stream",
     "text": [
      "\n"
     ]
    }
   ],
   "source": [
    "public class Box {\n",
    "    private ArrayList<String> items;\n",
    "\n",
    "    public Box() {\n",
    "        items = new ArrayList<>();\n",
    "    }\n",
    "\n",
    "    public ArrayList<String> getItems() {\n",
    "        return items;\n",
    "    }\n",
    "}\n",
    "System.out.println()"
   ]
  },
  {
   "cell_type": "markdown",
   "metadata": {},
   "source": [
    "If you append an item to the ArrayList returned by `getItems`, will it modify the original `items` in the `Box` object?\n",
    "\n",
    "Answer: If you append an item to the ArrayList returned by getItems, it will modify the original items in the Box object. This is because getItems returns a reference to the actual ArrayList object stored in the Box. So that means changes to ArrayList will be obtained through get Items to affect the original held by the Box."
   ]
  },
  {
   "cell_type": "markdown",
   "metadata": {},
   "source": [
    "## `toString` Method\n",
    "\n",
    "The `toString` method offers a string representation of an object. By default, it returns the class name followed by its memory address. However, it's a common practice to override this method to provide a more descriptive representation."
   ]
  },
  {
   "cell_type": "code",
   "execution_count": 10,
   "metadata": {
    "vscode": {
     "languageId": "java"
    }
   },
   "outputs": [
    {
     "name": "stdout",
     "output_type": "stream",
     "text": [
      "Circle with radius: 5.0\n"
     ]
    }
   ],
   "source": [
    "public class Circle {\n",
    "    private double radius;\n",
    "\n",
    "    public Circle(double r) {\n",
    "        this.radius = r;\n",
    "    }\n",
    "\n",
    "    @Override\n",
    "    public String toString() {\n",
    "        return \"Circle with radius: \" + radius;\n",
    "    }\n",
    "\n",
    "    public static void main(String[] args) {\n",
    "        Circle circle = new Circle(5.0);\n",
    "        System.out.println(circle); // This will implicitly call the toString() method\n",
    "    }\n",
    "}\n",
    "\n",
    "Circle.main(null);"
   ]
  },
  {
   "cell_type": "markdown",
   "metadata": {},
   "source": [
    "Without overriding, what would the default `toString` method return?\n",
    "\n",
    "Answer: This method would come from the Object class and be a string representation"
   ]
  },
  {
   "cell_type": "markdown",
   "metadata": {},
   "source": [
    "# Topic 5.5: Mutator Methods\n",
    "\n",
    "Mutator methods, often referred to as \"setters\", play a crucial role in object-oriented programming. They allow controlled modification of an object's state. While accessor methods (\"getters\") retrieve the state of an object, mutator methods modify it.\n",
    "\n",
    "## Void Methods\n",
    "\n",
    "A **void method** does not return any value. Instead, its primary purpose is to perform an action. The keyword `void` in the method's header signifies that the method won't return any value."
   ]
  },
  {
   "cell_type": "code",
   "execution_count": null,
   "metadata": {
    "vscode": {
     "languageId": "java"
    }
   },
   "outputs": [],
   "source": [
    "public class exampleVoid {\n",
    "    public void displayMessage() {\n",
    "        System.out.println(\"Hello, World!\");\n",
    "    }\n",
    "\n",
    "    public static void main(String[] args) {\n",
    "        exampleVoid example = new exampleVoid();\n",
    "        example.displayMessage();\n",
    "    }\n",
    "}\n",
    "\n",
    "exampleVoid.main(null);"
   ]
  },
  {
   "cell_type": "markdown",
   "metadata": {},
   "source": [
    "In the example above, the `displayMessage` method doesn't return any value; it simply prints a message to the console.\n",
    "\n",
    "## Mutator (Modifier) Methods\n",
    "\n",
    "A **mutator method** is typically a void method that alters the values of instance or static variables. These methods ensure that the internal state of an object can be changed in a controlled manner, adhering to the principles of data encapsulation and data integrity.\n",
    "\n",
    "Consider a class `Rectangle`:"
   ]
  },
  {
   "cell_type": "code",
   "execution_count": 11,
   "metadata": {
    "vscode": {
     "languageId": "java"
    }
   },
   "outputs": [
    {
     "name": "stdout",
     "output_type": "stream",
     "text": [
      "Invalid width provided.\n"
     ]
    }
   ],
   "source": [
    "public class Rectangle {\n",
    "    private double length;\n",
    "    private double width;\n",
    "\n",
    "    // Mutator method for length\n",
    "    public void setLength(double length) {\n",
    "        if (length > 0) {\n",
    "            this.length = length;\n",
    "        } else {\n",
    "            System.out.println(\"Invalid length provided.\");\n",
    "        }\n",
    "    }\n",
    "\n",
    "    // Mutator method for width\n",
    "    public void setWidth(double width) {\n",
    "        if (width > 0) {\n",
    "            this.width = width;\n",
    "        } else {\n",
    "            System.out.println(\"Invalid width provided.\");\n",
    "        }\n",
    "    }\n",
    "\n",
    "    public static void main(String[] args) {\n",
    "        Rectangle rect = new Rectangle();\n",
    "        rect.setLength(5);\n",
    "        rect.setWidth(-3);\n",
    "    }\n",
    "}\n",
    "\n",
    "Rectangle.main(null);"
   ]
  },
  {
   "cell_type": "markdown",
   "metadata": {},
   "source": [
    "In the `Rectangle` class, the methods `setLength` and `setWidth` are mutator methods. They allow the modification of the `length` and `width` attributes, respectively, while ensuring that only valid values are set.\n",
    "\n",
    "    Suppose you add another method to the `Rectangle` class called `setDimensions` which takes a single string parameter in the format \"length,width\" (e.g., \"10,5\"). This method should parse the string, validate the values, and then set the `length` and `width` accordingly. If the string is in an invalid format or contains negative values, it should print an error message. Can you draft this method?"
   ]
  },
  {
   "cell_type": "code",
   "execution_count": 11,
   "metadata": {
    "vscode": {
     "languageId": "java"
    }
   },
   "outputs": [
    {
     "name": "stdout",
     "output_type": "stream",
     "text": [
      "Length: 10.0, Width: 5.0\n",
      "Length: 5.0, Width: 3.0\n",
      "Invalid numeric values in the dimensions.\n",
      "Invalid format. Please use 'length,width'.\n",
      "Invalid dimensions provided.\n"
     ]
    }
   ],
   "source": [
    "public class Rectangle {\n",
    "    private double length;\n",
    "    private double width;\n",
    "\n",
    "    public void setLength(double length) {\n",
    "        if (length > 0) {\n",
    "            this.length = length;\n",
    "        } else {\n",
    "            System.out.println(\"Invalid length provided.\");\n",
    "        }\n",
    "    }\n",
    "\n",
    "    public void setWidth(double width) {\n",
    "        if (width > 0) {\n",
    "            this.width = width;\n",
    "        } else {\n",
    "            System.out.println(\"Invalid width provided.\");\n",
    "        }\n",
    "    }\n",
    "\n",
    "    public void setDimensions(String dimensions) {\n",
    "        String[] parts = dimensions.split(\",\");\n",
    "        \n",
    "        if (parts.length != 2) {\n",
    "            System.out.println(\"Invalid format. Please use 'length,width'.\");\n",
    "            return;\n",
    "        }\n",
    "        \n",
    "        try {\n",
    "            double newLength = Double.parseDouble(parts[0]);\n",
    "            double newWidth = Double.parseDouble(parts[1]);\n",
    "            \n",
    "            if (newLength > 0 && newWidth > 0) {\n",
    "                this.length = newLength;\n",
    "                this.width = newWidth;\n",
    "            } else {\n",
    "                System.out.println(\"Invalid dimensions provided.\");\n",
    "            }\n",
    "        } catch (NumberFormatException e) {\n",
    "            System.out.println(\"Invalid numeric values in the dimensions.\");\n",
    "        }\n",
    "    }\n",
    "\n",
    "    public static void main(String[] args) {\n",
    "        Rectangle rect = new Rectangle();\n",
    "        \n",
    "        rect.setDimensions(\"10,5\");\n",
    "        System.out.println(\"Length: \" + rect.length + \", Width: \" + rect.width);\n",
    "\n",
    "        rect.setDimensions(\"5,3\");\n",
    "        System.out.println(\"Length: \" + rect.length + \", Width: \" + rect.width);\n",
    "\n",
    "        rect.setDimensions(\"abc,def\");\n",
    "        rect.setDimensions(\"15\");\n",
    "        rect.setDimensions(\"10,-5\");\n",
    "    }\n",
    "}\n",
    "Rectangle.main(null)"
   ]
  },
  {
   "cell_type": "markdown",
   "metadata": {},
   "source": [
    "# Topic 5.6: Writing Methods\n",
    "\n",
    "Methods in Java allow us to define behaviors for objects. When these methods are non-void and have parameters, they can return a value based on the provided arguments.\n",
    "\n",
    "## Accessing Private Data\n",
    "\n",
    "Methods can only access the private data and methods of a parameter that is a reference to an object when the parameter is of the same type as the method's enclosing class. This ensures data encapsulation and integrity."
   ]
  },
  {
   "cell_type": "code",
   "execution_count": 12,
   "metadata": {
    "vscode": {
     "languageId": "java"
    }
   },
   "outputs": [
    {
     "name": "stdout",
     "output_type": "stream",
     "text": [
      "10\n"
     ]
    }
   ],
   "source": [
    "public class MyClass {\n",
    "    private int privateData = 10;\n",
    "\n",
    "    public int getPrivateData() {\n",
    "        return privateData;\n",
    "    }\n",
    "\n",
    "    public static void main (String[] args) {\n",
    "        MyClass example = new MyClass();\n",
    "        int integer = example.getPrivateData();\n",
    "        System.out.println(integer);\n",
    "    }\n",
    "}\n",
    "\n",
    "MyClass.main(null);"
   ]
  },
  {
   "cell_type": "markdown",
   "metadata": {},
   "source": [
    "# Non-Void Methods with Parameters\n",
    "\n",
    "These methods are designed to receive values, process them, and return a computed result."
   ]
  },
  {
   "cell_type": "code",
   "execution_count": null,
   "metadata": {
    "vscode": {
     "languageId": "java"
    }
   },
   "outputs": [],
   "source": [
    "public class AreaCalculator {\n",
    "    public double calculateArea(double length, double width) {\n",
    "        return length * width;\n",
    "    }\n",
    "\n",
    "    public static void main(String[] args) {\n",
    "        AreaCalculator calculator = new AreaCalculator();\n",
    "        double area = calculator.calculateArea(5, 10);\n",
    "        System.out.println(\"Area: \" + area);\n",
    "    }\n",
    "}\n",
    "\n",
    "AreaCalculator.main(null);"
   ]
  },
  {
   "cell_type": "markdown",
   "metadata": {},
   "source": [
    "# Handling Mutable Objects\n",
    "\n",
    "It's a good programming practice not to modify mutable objects passed as parameters unless it's explicitly required.\n",
    "\n",
    "**Why?** Modifying mutable objects that are passed as parameters can lead to unintended side effects in the calling code. The calling code might not expect the object to be modified, and this can introduce bugs that are hard to trace. By avoiding the modification of passed objects, you ensure that the function or method is \"pure\" and doesn't produce unexpected side effects."
   ]
  },
  {
   "cell_type": "code",
   "execution_count": 13,
   "metadata": {
    "vscode": {
     "languageId": "java"
    }
   },
   "outputs": [
    {
     "name": "stdout",
     "output_type": "stream",
     "text": [
      "[Original Item, New Item]\n"
     ]
    }
   ],
   "source": [
    "import java.util.ArrayList;\n",
    "\n",
    "public class ListModifier {\n",
    "    public void modifyList(ArrayList<String> list) {\n",
    "        // Not recommended unless explicitly required\n",
    "        list.add(\"New Item\");\n",
    "    }\n",
    "\n",
    "    public static void main(String[] args) {\n",
    "        ArrayList<String> items = new ArrayList<>();\n",
    "        items.add(\"Original Item\");\n",
    "        \n",
    "        ListModifier modifier = new ListModifier();\n",
    "        modifier.modifyList(items);\n",
    "        \n",
    "        System.out.println(items);\n",
    "    }\n",
    "}\n",
    "ListModifier.main(null)"
   ]
  },
  {
   "cell_type": "markdown",
   "metadata": {},
   "source": [
    "Question: What will be the output of the above code?\n",
    "\n",
    "Answer: [Original Item, New Item]"
   ]
  },
  {
   "cell_type": "markdown",
   "metadata": {},
   "source": [
    "# Primitive vs. Reference Parameters\n",
    "\n",
    "When a method's parameter is a primitive type, changes to it inside the method won't affect the original value. However, for reference types, changes inside the method will reflect on the original object."
   ]
  },
  {
   "cell_type": "code",
   "execution_count": null,
   "metadata": {
    "vscode": {
     "languageId": "java"
    }
   },
   "outputs": [],
   "source": [
    "import java.util.ArrayList;\n",
    "\n",
    "public class ValueModifier {\n",
    "    public void modifyValues(int num, ArrayList<String> list) {\n",
    "        num = 20;\n",
    "        list.add(\"Modified\");\n",
    "    }\n",
    "\n",
    "    public static void main(String[] args) {\n",
    "        int number = 10;\n",
    "        ArrayList<String> items = new ArrayList<>();\n",
    "        \n",
    "        ValueModifier modifier = new ValueModifier();\n",
    "        modifier.modifyValues(number, items);\n",
    "        \n",
    "        System.out.println(\"Number: \" + number);\n",
    "        System.out.println(\"List: \" + items);\n",
    "    }\n",
    "}\n",
    "\n",
    "ValueModifier.main(null);"
   ]
  },
  {
   "cell_type": "markdown",
   "metadata": {},
   "source": [
    "When a reference is passed to a method, both the original and the parameter inside the method point to the same memory location. This is termed as aliasing."
   ]
  },
  {
   "cell_type": "code",
   "execution_count": null,
   "metadata": {
    "vscode": {
     "languageId": "java"
    }
   },
   "outputs": [],
   "source": [
    "public class AliasingExample {\n",
    "    public void addToList(ArrayList<String> list) {\n",
    "        list.add(\"Aliased Item\");\n",
    "    }\n",
    "\n",
    "    public static void main(String[] args) {\n",
    "        ArrayList<String> items = new ArrayList<>();\n",
    "        \n",
    "        AliasingExample example = new AliasingExample();\n",
    "        example.addToList(items);\n",
    "        \n",
    "        System.out.println(items);\n",
    "    }\n",
    "}"
   ]
  },
  {
   "cell_type": "markdown",
   "metadata": {},
   "source": [
    "Given the `AliasingExample` class, add a method named `removeFromList` that removes an item from the list based on its index. After adding the item \"Aliased Item\" using the `addToList` method, use the `removeFromList` method to remove it.\n",
    "\n",
    "**Note**: Due to aliasing, changes made to the list inside the method will reflect on the original list."
   ]
  },
  {
   "cell_type": "markdown",
   "metadata": {},
   "source": [
    "# Topic 5.7: Static Variables and Methods\n",
    "\n",
    "In Java, the `static` keyword plays a pivotal role in the realm of Object-Oriented Programming. It allows variables and methods to be associated with the class itself rather than instances of the class. Let's delve deeper into the world of static components.\n",
    "\n",
    "## Static Variables\n",
    "\n",
    "Static variables, unlike instance variables, are associated with the class itself and not with any specific instance. This means there's only one copy of a static variable, which is shared among all instances of the class.\n",
    "\n",
    "### Key Points:\n",
    "\n",
    "- **Single Copy**: All instances of the class share the same copy of the static variable. This means if one object modifies a static variable, it reflects in all other instances.\n",
    "- **Access Modifiers**: Static variables can be either `public` or `private`, determining their visibility.\n",
    "- **Usage**: They are accessed using the class name, not through an instance."
   ]
  },
  {
   "cell_type": "code",
   "execution_count": 14,
   "metadata": {
    "vscode": {
     "languageId": "java"
    }
   },
   "outputs": [
    {
     "name": "stdout",
     "output_type": "stream",
     "text": [
      "Total Students: 2\n"
     ]
    }
   ],
   "source": [
    "public class Student {\n",
    "    private static int studentCount = 0;\n",
    "    private String name;\n",
    "\n",
    "    public Student(String name) {\n",
    "        this.name = name;\n",
    "        studentCount++;\n",
    "    }\n",
    "\n",
    "    public static int getStudentCount() {\n",
    "        return studentCount;\n",
    "    }\n",
    "\n",
    "    public static void main(String[] args) {\n",
    "        Student alice = new Student(\"Alice\");\n",
    "        Student bob = new Student(\"Bob\");\n",
    "        System.out.println(\"Total Students: \" + Student.getStudentCount());\n",
    "    }\n",
    "}\n",
    "Student.main(null)"
   ]
  },
  {
   "cell_type": "markdown",
   "metadata": {},
   "source": [
    "Question: If another student, Vardaan, enrolls, what will be the output of `Student.getStudentCount()`?\n",
    "\n",
    "Answer: 4"
   ]
  },
  {
   "cell_type": "markdown",
   "metadata": {},
   "source": [
    "## Static Methods\n",
    "\n",
    "Static methods are methods that belong to the class, not any specific instance. This means you can call a static method without creating an object of the class.\n",
    "\n",
    "### Key Points:\n",
    "- **Association with Class**: Static methods are not tied to an instance of the class. This means they can't access instance variables or methods directly.\n",
    "- **Access Restrictions**: Static methods cannot access instance variables or call non-static methods directly. They can only access static variables or call other static methods.\n",
    "- **Usage**: They are called using the class name."
   ]
  },
  {
   "cell_type": "code",
   "execution_count": 17,
   "metadata": {
    "vscode": {
     "languageId": "java"
    }
   },
   "outputs": [
    {
     "ename": "CompilationException",
     "evalue": "",
     "output_type": "error",
     "traceback": [
      "\u001b[1m\u001b[30m|   \u001b[1m\u001b[30m        int result = MathUtility.square(\u001b[0m\u001b[1m\u001b[30m\u001b[41mnum\u001b[0m\u001b[1m\u001b[30m);\u001b[0m",
      "\u001b[1m\u001b[31mnon-static variable num cannot be referenced from a static context\u001b[0m",
      ""
     ]
    }
   ],
   "source": [
    "public class MathUtility {\n",
    "    public int num;\n",
    "    \n",
    "    public static int square(int number) {\n",
    "        return number * number;\n",
    "    }\n",
    "\n",
    "    public static void main(String[] args) {\n",
    "        int result = MathUtility.square(num);\n",
    "        System.out.println(\"Square: \" + result);\n",
    "    }\n",
    "}\n",
    "MathUtility.main(null)"
   ]
  },
  {
   "cell_type": "markdown",
   "metadata": {},
   "source": [
    "Question: What is the problem with the above code (do not run the cell)?\n",
    "\n",
    "Answer: The code is referencing num which is a class in a static method"
   ]
  },
  {
   "cell_type": "markdown",
   "metadata": {},
   "source": [
    "## Aliasing in Static Components\n",
    "\n",
    "Given that static variables are shared among all instances, changes in one instance reflect in others. This is a form of aliasing, where multiple references point to the same memory location."
   ]
  },
  {
   "cell_type": "code",
   "execution_count": 18,
   "metadata": {
    "vscode": {
     "languageId": "java"
    }
   },
   "outputs": [
    {
     "name": "stdout",
     "output_type": "stream",
     "text": [
      "Shared count after incrementing in obj1: 1\n",
      "Shared count after incrementing in obj2: 2\n"
     ]
    }
   ],
   "source": [
    "public class SharedResource {\n",
    "    // Static variable shared among all instances\n",
    "    public static int sharedCount = 0;\n",
    "\n",
    "    public void incrementCount() {\n",
    "        sharedCount++;\n",
    "    }\n",
    "\n",
    "    public static void main(String[] args) {\n",
    "        SharedResource obj1 = new SharedResource();\n",
    "        SharedResource obj2 = new SharedResource();\n",
    "\n",
    "        obj1.incrementCount();\n",
    "        System.out.println(\"Shared count after incrementing in obj1: \" + SharedResource.sharedCount);\n",
    "\n",
    "        obj2.incrementCount();\n",
    "        System.out.println(\"Shared count after incrementing in obj2: \" + SharedResource.sharedCount);\n",
    "    }\n",
    "}\n",
    "\n",
    "SharedResource.main(null);"
   ]
  },
  {
   "cell_type": "markdown",
   "metadata": {},
   "source": [
    "When you run the above code, you'll notice that the `sharedCount` variable is incremented by both `obj1` and `obj2`, demonstrating that the static variable is indeed shared among all instances."
   ]
  },
  {
   "cell_type": "markdown",
   "metadata": {},
   "source": [
    "# Topic 5.8: Scope and Access\n",
    "\n",
    "In Java, the scope of a variable determines where it can be accessed or modified. The scope is defined by where the variable is declared. Let's delve into the intricacies of variable scope and access in Java.\n",
    "\n",
    "## Hacks for 5.4-5.8"
   ]
  },
  {
   "cell_type": "code",
   "execution_count": null,
   "metadata": {
    "vscode": {
     "languageId": "java"
    }
   },
   "outputs": [],
   "source": [
    "import java.util.*;\n",
    "\n",
    "class BankAccount { //Stores the key information per bank account\n",
    "    private int accountNumber;\n",
    "    private double balance;\n",
    "\n",
    "    public BankAccount() {\n",
    "        this.accountNumber = generateAccountNumber();\n",
    "        this.balance = 0.0;\n",
    "    }\n",
    "\n",
    "    public int getAccountNumber() {//Tells us account number\n",
    "        return accountNumber;\n",
    "    }\n",
    "\n",
    "    public double getBalance() {//Tells us account balance\n",
    "        return balance;\n",
    "    }\n",
    "\n",
    "    public void deposit(double amount) {//Deposits certain amount of money\n",
    "        if (amount > 0) {\n",
    "            balance += amount;\n",
    "            System.out.println(\"Deposited $\" + amount + \" to account \" + accountNumber);\n",
    "        }\n",
    "    }\n",
    "\n",
    "    public void withdraw(double amount) { //Withdraws certain amount of money\n",
    "        if (amount > 0 && balance >= amount) {\n",
    "            balance -= amount;\n",
    "            System.out.println(\"Withdrawn $\" + amount + \" from account \" + accountNumber);\n",
    "        } else {\n",
    "            System.out.println(\"Insufficient funds for withdrawal from account \" + accountNumber);\n",
    "        }\n",
    "    }\n",
    "\n",
    "    private int generateAccountNumber() {\n",
    "        return new Random().nextInt(10000);\n",
    "    }\n",
    "}\n",
    "\n",
    "class Bank { //Describes the certain bank\n",
    "    private ArrayList<BankAccount> accounts;\n",
    "    private double totalBankDeposits;\n",
    "\n",
    "    public Bank() {\n",
    "        accounts = new ArrayList<>(); //Stores the amount of accounts in this bank\n",
    "        totalBankDeposits = 0.0; //How many deposits made in total\n",
    "    }\n",
    "\n",
    "    public void createAccount() { //Makes a new account and adds that account to the accounts list\n",
    "        BankAccount account = new BankAccount();\n",
    "        accounts.add(account);\n",
    "        System.out.println(\"New account created with account number: \" + account.getAccountNumber());\n",
    "    }\n",
    "\n",
    "    public void processTransaction(int accountNumber, double amount) { //Does all of the transaction procession\n",
    "        BankAccount account = findAccount(accountNumber);\n",
    "        if (account != null) {\n",
    "            account.deposit(amount);\n",
    "            totalBankDeposits += amount;\n",
    "        } else {\n",
    "            System.out.println(\"Account not found for transaction.\");\n",
    "        }\n",
    "    }\n",
    "\n",
    "    public double getTotalBankDeposits() {\n",
    "        return totalBankDeposits;\n",
    "    }\n",
    "\n",
    "    private BankAccount findAccount(int accountNumber) { //Helps find a certain bank account\n",
    "        for (BankAccount account : accounts) {\n",
    "            if (account.getAccountNumber() == accountNumber) {\n",
    "                return account;\n",
    "            }\n",
    "        }\n",
    "        return null;\n",
    "    }\n",
    "}\n",
    "\n",
    "public class BankingApplication {//Sets up a banking simulation\n",
    "    public static void main(String[] args) {\n",
    "        Bank bank = new Bank();\n",
    "\n",
    "        bank.createAccount();\n",
    "        bank.createAccount();\n",
    "\n",
    "        bank.processTransaction(1, 1000.0);\n",
    "        bank.processTransaction(2, 500.0);\n",
    "\n",
    "        System.out.println(\"Total bank deposits: $\" + bank.getTotalBankDeposits()); //Tells us total Bank Accounts made overal\n",
    "    }\n",
    "}\n"
   ]
  },
  {
   "cell_type": "markdown",
   "metadata": {},
   "source": [
    "## Local \n",
    "\n",
    "Local variables are declared within methods or constructors. Their scope is limited to the block in which they are declared, which means they can't be accessed outside of that block.\n",
    "\n",
    "**Key Points**:\n",
    "\n",
    "- **Declaration**: Local variables can be declared in methods or constructors.\n",
    "- **Accessibility**: They can only be used within the method or constructor where they are declared.\n",
    "- **Modifiers**: Local variables cannot have access modifiers like `public` or `private`."
   ]
  },
  {
   "cell_type": "code",
   "execution_count": 19,
   "metadata": {
    "vscode": {
     "languageId": "java"
    }
   },
   "outputs": [
    {
     "name": "stdout",
     "output_type": "stream",
     "text": [
      "Hello, World!\n"
     ]
    }
   ],
   "source": [
    "public class LocalVariableExample {\n",
    "    public void displayMessage() {\n",
    "        String localVariable = \"Hello, World!\";\n",
    "        System.out.println(localVariable);\n",
    "    }\n",
    "\n",
    "    public static void main(String[] args) {\n",
    "        LocalVariableExample example = new LocalVariableExample();\n",
    "        example.displayMessage();\n",
    "    }\n",
    "}\n",
    "\n",
    "LocalVariableExample.main(null);"
   ]
  },
  {
   "cell_type": "markdown",
   "metadata": {},
   "source": [
    "In the above code, `localVariable` is a local variable that can only be accessed within the `displayMessage` method.\n",
    "\n",
    "## Shadowing\n",
    "\n",
    "When a local variable has the same name as an instance variable, the local variable shadows or hides the instance variable. In such cases, the local variable takes precedence."
   ]
  },
  {
   "cell_type": "code",
   "execution_count": 21,
   "metadata": {
    "vscode": {
     "languageId": "java"
    }
   },
   "outputs": [
    {
     "name": "stdout",
     "output_type": "stream",
     "text": [
      "5\n",
      "10\n"
     ]
    }
   ],
   "source": [
    "public class ShadowExample {\n",
    "    private int value = 10;\n",
    "\n",
    "    public void printValue(int value) {\n",
    "        System.out.println(value);  // Refers to the local variable\n",
    "        System.out.println(this.value);  // Refers to the instance variable\n",
    "    }\n",
    "\n",
    "    public static void main(String[] args) {\n",
    "        ShadowExample example = new ShadowExample();\n",
    "        example.printValue(5);\n",
    "    }\n",
    "}\n",
    "\n",
    "ShadowExample.main(null);"
   ]
  },
  {
   "cell_type": "markdown",
   "metadata": {},
   "source": [
    "Question: In the `ShadowExample` class, if we didn't use the `this` keyword, which `value` would the method refer to?\n",
    "\n",
    "Answer: The Local Variable"
   ]
  },
  {
   "cell_type": "markdown",
   "metadata": {},
   "source": [
    "## Formal Parameters\n",
    "\n",
    "Formal parameters in methods or constructors are treated as local variables. Their scope is limited to the method or constructor in which they are defined."
   ]
  },
  {
   "cell_type": "code",
   "execution_count": 20,
   "metadata": {
    "vscode": {
     "languageId": "java"
    }
   },
   "outputs": [
    {
     "name": "stdout",
     "output_type": "stream",
     "text": [
      "Name: John\n",
      "Age: 25\n"
     ]
    }
   ],
   "source": [
    "public class DetailsDisplay {\n",
    "    public void displayDetails(String name, int age) {\n",
    "        System.out.println(\"Name: \" + name);\n",
    "        System.out.println(\"Age: \" + age);\n",
    "    }\n",
    "\n",
    "    public static void main(String[] args) {\n",
    "        DetailsDisplay display = new DetailsDisplay();\n",
    "        display.displayDetails(\"John\", 25);\n",
    "    }\n",
    "}\n",
    "\n",
    "DetailsDisplay.main(null);"
   ]
  },
  {
   "cell_type": "markdown",
   "metadata": {},
   "source": [
    "\n",
    "In the above method, `name` and `age` are formal parameters and can only be accessed within the `displayDetails` method."
   ]
  },
  {
   "cell_type": "markdown",
   "metadata": {},
   "source": [
    "### Method Decomposition\n",
    "\n",
    "Method decomposition is a programming technique where a complex problem is broken down into smaller, more manageable subproblems. Each subproblem is solved using a separate method. This approach promotes modularity and reusability.\n",
    "\n",
    "For instance, consider the following example for calculating the area and perimeter of a rectangle:"
   ]
  },
  {
   "cell_type": "code",
   "execution_count": null,
   "metadata": {
    "vscode": {
     "languageId": "java"
    }
   },
   "outputs": [],
   "source": [
    "public class RectangleOperations {\n",
    "    public double calculateArea(double length, double width) {\n",
    "        return length * width;\n",
    "    }\n",
    "\n",
    "    public double calculatePerimeter(double length, double width) {\n",
    "        return 2 * (length + width);\n",
    "    }\n",
    "\n",
    "    public static void main(String[] args) {\n",
    "        RectangleOperations operations = new RectangleOperations();\n",
    "        System.out.println(\"Area: \" + operations.calculateArea(5, 10));\n",
    "        System.out.println(\"Perimeter: \" + operations.calculatePerimeter(5, 10));\n",
    "    }\n",
    "}\n",
    "\n",
    "RectangleOperations.main(null);"
   ]
  },
  {
   "cell_type": "markdown",
   "metadata": {},
   "source": [
    "## 5.9 this Keyword"
   ]
  },
  {
   "cell_type": "markdown",
   "metadata": {},
   "source": [
    "## KEY LEARNING OBJECTIVE"
   ]
  },
  {
   "cell_type": "markdown",
   "metadata": {},
   "source": [
    "Evaluate object reference expressions that use the keyword **this**."
   ]
  },
  {
   "cell_type": "markdown",
   "metadata": {},
   "source": [
    "The keyword \"this\" is utilized in Java to refer to the current instance of a class. In other words, it helps to clarify what variable you're referring to within the instance."
   ]
  },
  {
   "cell_type": "code",
   "execution_count": null,
   "metadata": {
    "vscode": {
     "languageId": "java"
    }
   },
   "outputs": [],
   "source": [
    "public class MyClass {\n",
    "    private int value;\n",
    "\n",
    "    public void setValue(int value) {\n",
    "        this.value = value; // 'this' refers to the instance variable\n",
    "    }\n",
    "}\n"
   ]
  },
  {
   "cell_type": "markdown",
   "metadata": {},
   "source": [
    "QUESTION: **How can you use 'this' to call a constructor?**\n",
    "\n",
    "ANSWER: You can use this to make any new objects in a constructor"
   ]
  },
  {
   "cell_type": "markdown",
   "metadata": {},
   "source": [
    "## 5.10 Ethical and Social Implications of Computing Systems"
   ]
  },
  {
   "cell_type": "markdown",
   "metadata": {},
   "source": [
    "# KEY LEARNING OBJECTIVE"
   ]
  },
  {
   "cell_type": "markdown",
   "metadata": {},
   "source": [
    "Explain the ethical and social implications of computing systems."
   ]
  },
  {
   "cell_type": "markdown",
   "metadata": {},
   "source": [
    "**Components of Ethical Implications**:\n",
    "\n",
    "1. Legal issues and intellectual **property** are big concerns in program creation. Licensing open source software is a big issue, as it dictates how programmers need to comply with terms and how software can be distributed and used.\n",
    "\n",
    "\n",
    "2. Data privacy is also a big issue. There are many data protection laws that programmers need to ensure that their code complies with, especially if their program works with data collection and processing."
   ]
  },
  {
   "cell_type": "markdown",
   "metadata": {},
   "source": [
    "**Components of Social Implications**:\n",
    "\n",
    "1. There can be harmful impacts from software - malicious software can pose significant **security risks**.\n",
    "\n",
    "\n",
    "2. Software has transformed how people communicate, access information, and interact with each other. Social media platforms, for example, have changed the way society discusses issues, while algorithms can create filter bubbles that limit exposure to diverse opinions."
   ]
  },
  {
   "cell_type": "markdown",
   "metadata": {},
   "source": [
    "**POPCORN HACKS: (0.2)**"
   ]
  },
  {
   "cell_type": "markdown",
   "metadata": {},
   "source": [
    "**Write a two sentence reflection on the social and ethical implications of programming. (0.8)**\n",
    "The social and ethical implications of programming are very important in our world. Being able to create software helps to motivate people and we can start to see some innovation during this process. Programmers have to go through property concerns to make sure that they are following all the rules with their license and use of code in their programs. They hold a significant role in how technology influences communication and information access that respects user privacy and promotes diversity of perspectives.\n"
   ]
  },
  {
   "cell_type": "markdown",
   "metadata": {},
   "source": [
    "# Hacks"
   ]
  },
  {
   "cell_type": "markdown",
   "metadata": {},
   "source": [
    "**5.1-5.3 Hacks**\n",
    "\n",
    "**POPCORN HACKS: 0.2** - Done Above\n",
    "\n",
    "**Create a simple To-Do List that utilizes the following (0.8):** - Done Above\n",
    "\n",
    "1. Private and Public Declaration\n",
    "\n",
    "2. Constructor\n",
    "\n",
    "3. Mutable Array containing To-Do List Items\n",
    "\n",
    "Make sure to add descriptive comments that are describing your code!"
   ]
  },
  {
   "cell_type": "markdown",
   "metadata": {},
   "source": [
    "**5.9-5.10 Hacks**\n",
    "\n",
    "**POPCORN HACKS: 0.2** - Done Above\n",
    "\n",
    "**Write a two sentence reflection on the social and ethical implications of programming. (0.8)** - Done Above"
   ]
  }
 ],
 "metadata": {
  "kernelspec": {
   "display_name": "Java",
   "language": "java",
   "name": "java"
  },
  "language_info": {
   "codemirror_mode": "java",
   "file_extension": ".jshell",
   "mimetype": "text/x-java-source",
   "name": "Java",
   "pygments_lexer": "java",
   "version": "20.0.2+9"
  },
  "orig_nbformat": 4
 },
 "nbformat": 4,
 "nbformat_minor": 2
}
