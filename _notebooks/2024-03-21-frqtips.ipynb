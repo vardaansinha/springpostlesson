{
 "cells": [
  {
   "cell_type": "markdown",
   "metadata": {},
   "source": [
    "---\n",
    "layout: post\n",
    "title: Common Tips & Tricks + HACKS\n",
    "description: Wrapper Classes Lesson\n",
    "courses: { csa: {week: 1} }\n",
    "type: plans\n",
    "---"
   ]
  },
  {
   "cell_type": "markdown",
   "metadata": {},
   "source": [
    "<h1>Common Tips & Tricks for Classes FRQ</h1>"
   ]
  },
  {
   "cell_type": "markdown",
   "metadata": {},
   "source": [
    "1. Make sure to use all the names for the methods and classes that are given to you on the exam. This is a basic layup point, and not following instructions can cause you to lose easy points. Read the question as carefully as possible!"
   ]
  },
  {
   "cell_type": "markdown",
   "metadata": {},
   "source": [
    "2. The classes FRQ is always going to have the same structure - class, private instance variables, constructors, and accessing that instance variable. Then, there will be the algorithm that needs to be implemented, which you can likely figure out from the problem and code blobs it provides for you."
   ]
  },
  {
   "cell_type": "markdown",
   "metadata": {},
   "source": [
    "3. It is likely that Java wrapper classes are not going to be explicitly tested upon in the FRQs. However, you should remember the common wrapper classes - integer, double, boolean, character, etc. Furthermore, make sure that you don't unnecessarily use autoboxing/unboxing. You want your code to be as efficient and as object-oriented as possible, so make sure you are only autoboxing when you need to.\n"
   ]
  },
  {
   "cell_type": "markdown",
   "metadata": {},
   "source": [
    "<br>\n",
    "<br>"
   ]
  },
  {
   "cell_type": "markdown",
   "metadata": {},
   "source": [
    "<h1>HACKS</h1>"
   ]
  },
  {
   "cell_type": "markdown",
   "metadata": {},
   "source": [
    "(a) Provide a brief summary of what a wrapper class is and provide a small code block showing a basic example of a wrapper class."
   ]
  },
  {
   "cell_type": "markdown",
   "metadata": {},
   "source": [
    "(b) You are given a Java class called HiddenWord, which represents a hidden word puzzle game. Your task is to modify the HiddenWord class to include a method that returns the length of the hidden word as an instance of a wrapper class called WordLength. Provide comments throughout your code to ensure understanding of wrapper classes and their implementation in the HiddenWord class."
   ]
  }
 ],
 "metadata": {
  "language_info": {
   "name": "python"
  }
 },
 "nbformat": 4,
 "nbformat_minor": 2
}
