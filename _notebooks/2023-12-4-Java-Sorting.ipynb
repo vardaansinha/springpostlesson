{
 "cells": [
  {
   "cell_type": "code",
   "execution_count": 5,
   "metadata": {},
   "outputs": [
    {
     "name": "stdout",
     "output_type": "stream",
     "text": [
      "Sorted array:\n",
      "11 12 22 25 64 "
     ]
    }
   ],
   "source": [
    "public class SelectionSort {\n",
    "    public static void selectionSort(int[] arr) {\n",
    "        int n = arr.length;\n",
    "\n",
    "        // One by one move boundary of unsorted subarray\n",
    "        for (int i = 0; i < n - 1; i++) {\n",
    "            // Find the minimum element in unsorted array\n",
    "            int minIndex = i;\n",
    "            for (int j = i + 1; j < n; j++) {\n",
    "                if (arr[j] < arr[minIndex]) {\n",
    "                    minIndex = j;\n",
    "                }\n",
    "            }\n",
    "\n",
    "            // Swap the found minimum element with the first element\n",
    "            int temp = arr[minIndex];\n",
    "            arr[minIndex] = arr[i];\n",
    "            arr[i] = temp;\n",
    "        }\n",
    "    }\n",
    "\n",
    "    public static void main(String[] args) {\n",
    "        int[] array = {64, 25, 12, 22, 11};\n",
    "        selectionSort(array);\n",
    "        System.out.println(\"Sorted array:\");\n",
    "        for (int value : array) {\n",
    "            System.out.print(value + \" \");\n",
    "        }\n",
    "    }\n",
    "}\n",
    "SelectionSort.main(null);"
   ]
  },
  {
   "cell_type": "code",
   "execution_count": 20,
   "metadata": {},
   "outputs": [
    {
     "name": "stdout",
     "output_type": "stream",
     "text": [
      "1 2 3 4 5 6 blackboard"
     ]
    }
   ],
   "source": [
    "public static void changeIt(int[] arr, int val, String word){\n",
    "    arr = new int[5];\n",
    "    val = 0;\n",
    "    word = word.substring(0,5);\n",
    "    for(int k = 0; k < arr.length; k++){\n",
    "        arr[k] = 0;\n",
    "    }\n",
    "}\n",
    "public static void start(){\n",
    "    int[] nums = {1,2,3,4,5};\n",
    "    int value = 6;\n",
    "    String name = \"blackboard\";\n",
    "    \n",
    "    changeIt(nums, value, name);\n",
    "    for (int k = 0; k < nums.length;k++){\n",
    "        System.out.print(nums[k] + \" \");\n",
    "    }\n",
    "    System.out.print(value + \" \");\n",
    "    System.out.print(name);\n",
    "}\n",
    "start();"
   ]
  }
 ],
 "metadata": {
  "kernelspec": {
   "display_name": "Java",
   "language": "java",
   "name": "java"
  },
  "language_info": {
   "codemirror_mode": "java",
   "file_extension": ".jshell",
   "mimetype": "text/x-java-source",
   "name": "java",
   "pygments_lexer": "java",
   "version": "11.0.21+9-post-Ubuntu-0ubuntu122.04"
  }
 },
 "nbformat": 4,
 "nbformat_minor": 2
}
