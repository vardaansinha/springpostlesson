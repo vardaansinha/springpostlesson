{
 "cells": [
  {
   "cell_type": "markdown",
   "metadata": {},
   "source": [
    "---\n",
    "toc: true\n",
    "comments: true\n",
    "layout: post\n",
    "title: Hacks for Rachit's group\n",
    "description: Here are my hacks\n",
    "type: hacks\n",
    "courses: {csa: {week: 8}}\n",
    "---"
   ]
  },
  {
   "cell_type": "markdown",
   "metadata": {},
   "source": [
    "## Hack #1"
   ]
  },
  {
   "cell_type": "code",
   "execution_count": 2,
   "metadata": {},
   "outputs": [
    {
     "name": "stdout",
     "output_type": "stream",
     "text": [
      "5\n"
     ]
    }
   ],
   "source": [
    "import java.util.*;\n",
    "public class Main{\n",
    "    public static ArrayList<Integer> numbers = new ArrayList<Integer>();\n",
    "    public static void AppendArray(int number){\n",
    "        numbers.add(number);\n",
    "    }\n",
    "    public static int callNum(int num){\n",
    "        return numbers.get(num);\n",
    "    }\n",
    "    public static void main(String[] args){\n",
    "        numbers.add(5);\n",
    "        Scanner input = new Scanner(System.in);\n",
    "        int number = input.nextInt();\n",
    "        AppendArray(number);\n",
    "        int index = input.nextInt();\n",
    "        System.out.println(callNum(index));\n",
    "    \n",
    "    }\n",
    "}\n",
    "Main.main(null);"
   ]
  },
  {
   "cell_type": "markdown",
   "metadata": {},
   "source": [
    "## Hack #2"
   ]
  },
  {
   "cell_type": "code",
   "execution_count": null,
   "metadata": {},
   "outputs": [],
   "source": [
    "import java.util.*;\n",
    "\n",
    "public class GuessingGame {\n",
    "    private static Random random = new Random();\n",
    "    private int base;\n",
    "    private int exponent;\n",
    "\n",
    "    public GuessingGame() {\n",
    "        base = random.nextInt(9);\n",
    "        exponent = random.nextInt(4);\n",
    "    }\n",
    "\n",
    "    public void play() {\n",
    "        Scanner input = new Scanner(System.in);\n",
    "        int guessBase;\n",
    "        int guessExponent;\n",
    "\n",
    "        System.out.println(\"Hello Stranger! Welcome to my Guessing Game!\");\n",
    "        System.out.println(\"I've selected a random number taken to a random exponent.\");\n",
    "        System.out.println(\"Guess the number and exponent! GOOD LUCK!\");\n",
    "\n",
    "        do {\n",
    "            System.out.println(\"Guess the base; then the exponent\");\n",
    "            guessBase = input.nextInt();\n",
    "            guessExponent = input.nextInt();\n",
    "\n",
    "            if (guessBase == base && guessExponent == exponent) {\n",
    "                System.out.println(\"You are correct.\");\n",
    "            } else {\n",
    "                giveHint(guessBase, guessExponent);\n",
    "            }\n",
    "\n",
    "        } while (guessBase != base || guessExponent != exponent);\n",
    "\n",
    "        input.close();\n",
    "    }\n",
    "\n",
    "    private void giveHint(int guessBase, int guessExponent) {\n",
    "        if (guessBase < base) {\n",
    "            System.out.println(\"Rip! Try a larger base.\");\n",
    "        } else if (guessBase > base) {\n",
    "            System.out.println(\"Rip! Try a smaller base.\");\n",
    "        } else {\n",
    "            System.out.println(\"Base is correct!\");\n",
    "        if (guessExponent < exponent) {\n",
    "                System.out.println(\"Rip! Try a larger exponent.\");\n",
    "            } else if (guessExponent > exponent) {\n",
    "                System.out.println(\"Rip! Try a smaller exponent.\");\n",
    "            } else {\n",
    "                System.out.println(\"Exponent is correct!\");\n",
    "            }\n",
    "        }\n",
    "    }\n",
    "\n",
    "    public static void main(String[] args) {\n",
    "        GuessingGame game = new GuessingGame();\n",
    "        game.play();\n",
    "    }\n",
    "}\n",
    "GuessingGame.main(null);"
   ]
  },
  {
   "cell_type": "markdown",
   "metadata": {},
   "source": [
    "## Hack #3"
   ]
  },
  {
   "cell_type": "code",
   "execution_count": 15,
   "metadata": {},
   "outputs": [
    {
     "name": "stdout",
     "output_type": "stream",
     "text": [
      "Name: Tom Anderson\n",
      "Age: 20\n",
      "I have $10000.0\n",
      "Me tall: false\n"
     ]
    }
   ],
   "source": [
    " class Person{\n",
    "    public String firstname;\n",
    "    public String lastname;\n",
    "    public int age;\n",
    "    public double salary;\n",
    "    public boolean tall;\n",
    "    public Person(String firstName, String lastName, int Age, double Salary, boolean Tall){\n",
    "        this.firstname = firstName;\n",
    "        this.lastname = lastName;\n",
    "        this.age = Age;\n",
    "        this.salary = Salary;\n",
    "        this.tall = Tall;\n",
    "    }\n",
    "    public String Name(){\n",
    "        return this.firstname + \" \"+this.lastname;\n",
    "    }\n",
    "    public int age(){\n",
    "        return this.age;\n",
    "    }\n",
    "    public double salary(){\n",
    "        return this.salary;\n",
    "    }\n",
    "    public boolean height(){\n",
    "        if (this.tall){\n",
    "            return true;\n",
    "        }\n",
    "        else{\n",
    "            return false;\n",
    "        }\n",
    "    }\n",
    "}\n",
    "public class Main{\n",
    "    public static void main(String[] args){\n",
    "        Person tom = new Person(\"Tom\",\"Anderson\",20,10000,false);\n",
    "        System.out.println(\"Name: \" + tom.Name());\n",
    "        System.out.println(\"Age: \" + tom.age());\n",
    "        System.out.println(\"I have $\"+ tom.salary);\n",
    "        System.out.println(\"Me tall: \" + tom.tall);\n",
    "    }\n",
    "}\n",
    "Main.main(null);"
   ]
  },
  {
   "cell_type": "markdown",
   "metadata": {},
   "source": [
    "## Hack #4"
   ]
  },
  {
   "cell_type": "code",
   "execution_count": 19,
   "metadata": {},
   "outputs": [
    {
     "name": "stdout",
     "output_type": "stream",
     "text": [
      "Ratchet\n",
      "Hammer\n"
     ]
    }
   ],
   "source": [
    "import java.lang.String;\n",
    "public class NameFinder{\n",
    "    public static String firstName(String name){\n",
    "        String firstName = \"\";        \n",
    "        //First name\n",
    "        int spaceIndex = name.indexOf(\" \");\n",
    "        for (int i = 0; i<spaceIndex;i++){\n",
    "            firstName += name.charAt(i);\n",
    "        }\n",
    "        return firstName;\n",
    "    }\n",
    "    public static String lastName(String name){\n",
    "        String lastName = \"\";        \n",
    "        //Last name\n",
    "        int spaceIndex = name.indexOf(\" \");\n",
    "        for (int i = spaceIndex+1; i<name.length(); i++){\n",
    "            lastName += name.charAt(i);\n",
    "        }\n",
    "        return lastName;\n",
    "    }\n",
    "    public static void main(String[] args){\n",
    "        String name = \"Ratchet Hammer\";\n",
    "        System.out.println(firstName(name));\n",
    "        System.out.println(lastName(name));\n",
    "    }\n",
    "}\n",
    "NameFinder.main(null);\n"
   ]
  }
 ],
 "metadata": {
  "kernelspec": {
   "display_name": "Java",
   "language": "java",
   "name": "java"
  },
  "language_info": {
   "codemirror_mode": "java",
   "file_extension": ".jshell",
   "mimetype": "text/x-java-source",
   "name": "java",
   "pygments_lexer": "java",
   "version": "11.0.20.1+1-post-Ubuntu-0ubuntu122.04"
  },
  "orig_nbformat": 4
 },
 "nbformat": 4,
 "nbformat_minor": 2
}
